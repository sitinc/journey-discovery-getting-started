{
 "cells": [
  {
   "cell_type": "code",
   "execution_count": 2,
   "id": "initial_id",
   "metadata": {
    "collapsed": true,
    "ExecuteTime": {
     "end_time": "2023-12-20T04:38:09.972981200Z",
     "start_time": "2023-12-20T04:36:34.385736900Z"
    }
   },
   "outputs": [
    {
     "name": "stdout",
     "output_type": "stream",
     "text": [
      "2023-12-19 23:36:34 - openAiLogger - INFO - d23f8dea-f67e-4358-949b-c39024778318 | CreateCompletions | Input: {'user_prompt': 490, 'sys_prompt': 247, 'model': 'gpt-4-1106-preview'}\n",
      "2023-12-19 23:36:50 - openAiLogger - INFO - d23f8dea-f67e-4358-949b-c39024778318 | CreateCompletions | Output: {'id': 'chatcmpl-8Xibqr5fBPI5T9f9pZZKkIwzOSJxs', 'system_fingerprint': 'fp_3905aa4f79', 'finish_reason': 'stop', 'completion_tokens': 283, 'prompt_tokens': 175, 'total_tokens': 458, 'exec_time': 15.558500051498413}\n",
      "2023-12-19 23:36:50 - openAiLogger - INFO - 4dd60fda-09a0-4f5b-8983-34cfd0918c27 | CreateCompletions | Input: {'user_prompt': 490, 'sys_prompt': 247, 'model': 'gpt-4-1106-preview'}\n",
      "2023-12-19 23:37:09 - openAiLogger - INFO - 4dd60fda-09a0-4f5b-8983-34cfd0918c27 | CreateCompletions | Output: {'id': 'chatcmpl-8Xic5hFqqbpLJ7HVGlYAKN7CAdppx', 'system_fingerprint': 'fp_3905aa4f79', 'finish_reason': 'stop', 'completion_tokens': 274, 'prompt_tokens': 175, 'total_tokens': 449, 'exec_time': 19.415935277938843}\n",
      "2023-12-19 23:37:09 - openAiLogger - INFO - 9bb681d0-2c2e-4f2d-8edf-e5f885f5c74a | CreateCompletions | Input: {'user_prompt': 490, 'sys_prompt': 247, 'model': 'gpt-4-1106-preview'}\n",
      "2023-12-19 23:37:34 - openAiLogger - INFO - 9bb681d0-2c2e-4f2d-8edf-e5f885f5c74a | CreateCompletions | Output: {'id': 'chatcmpl-8XicPoh3bhgc2t5b0GvFfjzfZyYm1', 'system_fingerprint': 'fp_3905aa4f79', 'finish_reason': 'stop', 'completion_tokens': 317, 'prompt_tokens': 175, 'total_tokens': 492, 'exec_time': 24.351787328720093}\n",
      "2023-12-19 23:37:34 - openAiLogger - INFO - a0d3cc41-420e-48be-82c0-ca89f92605b9 | CreateCompletions | Input: {'user_prompt': 490, 'sys_prompt': 247, 'model': 'gpt-4-1106-preview'}\n",
      "2023-12-19 23:37:51 - openAiLogger - INFO - a0d3cc41-420e-48be-82c0-ca89f92605b9 | CreateCompletions | Output: {'id': 'chatcmpl-8XicnHHZcfvggoAz09o6CSzaJQUH4', 'system_fingerprint': 'fp_3905aa4f79', 'finish_reason': 'stop', 'completion_tokens': 251, 'prompt_tokens': 175, 'total_tokens': 426, 'exec_time': 17.258709192276}\n",
      "2023-12-19 23:37:51 - openAiLogger - INFO - c716ba00-457b-46d2-8a34-798112256852 | CreateCompletions | Input: {'user_prompt': 490, 'sys_prompt': 247, 'model': 'gpt-4-1106-preview'}\n",
      "2023-12-19 23:38:09 - openAiLogger - INFO - c716ba00-457b-46d2-8a34-798112256852 | CreateCompletions | Output: {'id': 'chatcmpl-8Xid4LDKBpNmlefqz1r5iZkaoOq8y', 'system_fingerprint': 'fp_6aca3b5ce1', 'finish_reason': 'stop', 'completion_tokens': 279, 'prompt_tokens': 175, 'total_tokens': 454, 'exec_time': 18.61866593360901}\n"
     ]
    }
   ],
   "source": [
    "from interactovery.transcripts import Transcripts\n",
    "from interactovery.openaiwrap import OpenAiWrap\n",
    "\n",
    "from dotenv import load_dotenv\n",
    "import os\n",
    "from pathlib import Path\n",
    "\n",
    "import logging.config\n",
    "\n",
    "prj_root = os.getcwd() + '/..'\n",
    "conf_dir = f\"{prj_root}/conf\"\n",
    "env_conf = f\"{conf_dir}/dev.env\"\n",
    "\n",
    "logger_conf = f\"{conf_dir}/logging.conf\"\n",
    "logger_name = 'mainLogger'\n",
    "\n",
    "output_dir = f\"{prj_root}/output/t5\"\n",
    "quantity = 500\n",
    "\n",
    "logging.config.fileConfig(logger_conf)\n",
    "log = logging.getLogger(logger_name)\n",
    "\n",
    "env_path = Path(env_conf)\n",
    "load_dotenv(dotenv_path=env_path)\n",
    "\n",
    "user_prompt_gen_transcript = \"\"\"The transcript should be of an executive assistant receiving calls for \n",
    "their executive and needing to schedule a follow-up at a later date.  Randomly decide on a date and time and how many \n",
    "turns it takes to book the appointment.  Randomly decide on people names, but make sure to use diverse names.  Don't \n",
    "use the words \"my executive\" or \"your executive\" or similar expressions.  Randomly decide on the reason the executive \n",
    "is unavailable.  Don't use an executive service as a business.\"\"\"\n",
    "\n",
    "openai_api_key = os.getenv('OPENAI_API_KEY')\n",
    "openai_org = os.getenv('OPENAI_ORG')\n",
    "openai_client = OpenAiWrap(\n",
    "    openai_org,\n",
    "    openai_api_key\n",
    ")\n",
    "\n",
    "tss = Transcripts(openai_client)\n",
    "\n",
    "tss.gen_agent_transcripts(\n",
    "    user_prompt=user_prompt_gen_transcript,\n",
    "    quantity=quantity,\n",
    "    output_dir=output_dir\n",
    ")\n"
   ]
  },
  {
   "cell_type": "code",
   "execution_count": null,
   "outputs": [],
   "source": [],
   "metadata": {
    "collapsed": false
   },
   "id": "49fd23b07a2e7539"
  }
 ],
 "metadata": {
  "kernelspec": {
   "display_name": "Python 3",
   "language": "python",
   "name": "python3"
  },
  "language_info": {
   "codemirror_mode": {
    "name": "ipython",
    "version": 2
   },
   "file_extension": ".py",
   "mimetype": "text/x-python",
   "name": "python",
   "nbconvert_exporter": "python",
   "pygments_lexer": "ipython2",
   "version": "2.7.6"
  }
 },
 "nbformat": 4,
 "nbformat_minor": 5
}
