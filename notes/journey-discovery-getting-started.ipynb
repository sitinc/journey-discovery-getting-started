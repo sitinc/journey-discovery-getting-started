{
 "cells": [
  {
   "cell_type": "code",
   "execution_count": 1,
   "id": "initial_id",
   "metadata": {
    "collapsed": true,
    "ExecuteTime": {
     "end_time": "2023-12-19T23:35:29.568486800Z",
     "start_time": "2023-12-19T23:35:16.263846800Z"
    }
   },
   "outputs": [
    {
     "name": "stdout",
     "output_type": "stream",
     "text": [
      "2023-12-19 18:35:16 - openAiLogger - DEBUG - 3b78d11e-aab1-4e44-bb50-9173da0ed0ee | CreateCompletions | Input: {'user_prompt': 'The transcript should be of an executive assistant receiving calls for \\ntheir executive and needing to schedule a follow-up at a later date.  Randomly decide on a date and time and how many \\nturns it takes to book the appointment.  Randomly decide on people names, but make sure to use diverse names.  Don\\'t \\nuse the words \"my executive\" or \"your executive\" or similar expressions.  Randomly decide on the reason the executive \\nis unavailable.  Don\\'t use an executive service as a business.', 'sys_prompt': 'You are helping me generate example transcripts.  Do not reply back with anything other \\nthan the transcript content itself.  No headers or footers.  Separate each turn with a blank line.  Each line should \\nstart with either \"USER: \" or \"AGENT: \".', 'model': 'gpt-4-1106-preview'}\n",
      "2023-12-19 18:35:29 - openAiLogger - DEBUG - 3b78d11e-aab1-4e44-bb50-9173da0ed0ee | CreateCompletions | Response: ChatCompletion(id='chatcmpl-8XduHrqHeFyVIfLfUepSZtMi7Sy6T', choices=[Choice(finish_reason='stop', index=0, logprobs=None, message=ChatCompletionMessage(content=\"USER: Hi, this is Tom Hanson calling for Sandra Leigh. Is she available?\\n\\nAGENT: Good morning, Mr. Hanson. Sandra is currently in a board meeting and won't be available until later today. Can I assist you with something or would you like to schedule a time to speak with her?\\n\\nUSER: I was hoping to discuss the partnership proposal. Could we schedule a follow-up call for this?\\n\\nAGENT: Certainly, Mr. Hanson. Sandra will be interested in discussing that with you. How does your schedule look for Wednesday afternoon?\\n\\nUSER: I can make some time. What slots do you have open?\\n\\nAGENT: Would 3:00 PM work for you?\\n\\nUSER: Yes, that should be fine.\\n\\nAGENT: Great. I will put you down for a call with Sandra at 3:00 PM on Wednesday. Is there a number where she can reach you?\\n\\nUSER: She can call me on my cell at (555) 123-9876.\\n\\nAGENT: Perfect. I've saved the details. You'll receive a confirmation email shortly, and Sandra will call you at the scheduled time.\\n\\nUSER: Thank you for your help!\\n\\nAGENT: It's my pleasure, Mr. Hanson. Have a great day!\", role='assistant', function_call=None, tool_calls=None))], created=1703028917, model='gpt-4-1106-preview', object='chat.completion', system_fingerprint='fp_3905aa4f79', usage=CompletionUsage(completion_tokens=249, prompt_tokens=175, total_tokens=424))\n",
      "2023-12-19 18:35:29 - openAiLogger - DEBUG - 3b78d11e-aab1-4e44-bb50-9173da0ed0ee | CreateCompletions | Output: USER: Hi, this is Tom Hanson calling for Sandra Leigh. Is she available?\n",
      "\n",
      "AGENT: Good morning, Mr. Hanson. Sandra is currently in a board meeting and won't be available until later today. Can I assist you with something or would you like to schedule a time to speak with her?\n",
      "\n",
      "USER: I was hoping to discuss the partnership proposal. Could we schedule a follow-up call for this?\n",
      "\n",
      "AGENT: Certainly, Mr. Hanson. Sandra will be interested in discussing that with you. How does your schedule look for Wednesday afternoon?\n",
      "\n",
      "USER: I can make some time. What slots do you have open?\n",
      "\n",
      "AGENT: Would 3:00 PM work for you?\n",
      "\n",
      "USER: Yes, that should be fine.\n",
      "\n",
      "AGENT: Great. I will put you down for a call with Sandra at 3:00 PM on Wednesday. Is there a number where she can reach you?\n",
      "\n",
      "USER: She can call me on my cell at (555) 123-9876.\n",
      "\n",
      "AGENT: Perfect. I've saved the details. You'll receive a confirmation email shortly, and Sandra will call you at the scheduled time.\n",
      "\n",
      "USER: Thank you for your help!\n",
      "\n",
      "AGENT: It's my pleasure, Mr. Hanson. Have a great day!\n"
     ]
    }
   ],
   "source": [
    "from interactovery.transcripts import Transcripts\n",
    "from interactovery.openaiwrap import OpenAiWrap\n",
    "\n",
    "from dotenv import load_dotenv\n",
    "import os\n",
    "from pathlib import Path\n",
    "\n",
    "import logging.config\n",
    "\n",
    "prj_root = os.getcwd() + '/../'\n",
    "conf_dir = prj_root + 'conf'\n",
    "\n",
    "logging.config.fileConfig(f\"{conf_dir}/logging.conf\")\n",
    "log = logging.getLogger('mainLogger')\n",
    "\n",
    "env_path = Path(f\"{conf_dir}/dev.env\")\n",
    "load_dotenv(dotenv_path=env_path)\n",
    "\n",
    "user_prompt_gen_transcript = \"\"\"The transcript should be of an executive assistant receiving calls for \n",
    "their executive and needing to schedule a follow-up at a later date.  Randomly decide on a date and time and how many \n",
    "turns it takes to book the appointment.  Randomly decide on people names, but make sure to use diverse names.  Don't \n",
    "use the words \"my executive\" or \"your executive\" or similar expressions.  Randomly decide on the reason the executive \n",
    "is unavailable.  Don't use an executive service as a business.\"\"\"\n",
    "\n",
    "openai_api_key = os.getenv('OPENAI_API_KEY')\n",
    "openai_org = os.getenv('OPENAI_ORG')\n",
    "openai_client = OpenAiWrap(\n",
    "    openai_org,\n",
    "    openai_api_key\n",
    ")\n",
    "\n",
    "tss = Transcripts(openai_client)\n",
    "\n",
    "tss.gen_agent_transcripts(\n",
    "    user_prompt=user_prompt_gen_transcript,\n",
    "    quantity=1,\n",
    "    output_dir=prj_root + 'output/t1'\n",
    ")\n"
   ]
  },
  {
   "cell_type": "code",
   "execution_count": null,
   "outputs": [],
   "source": [],
   "metadata": {
    "collapsed": false
   },
   "id": "a3543ba59665b94e"
  }
 ],
 "metadata": {
  "kernelspec": {
   "display_name": "Python 3",
   "language": "python",
   "name": "python3"
  },
  "language_info": {
   "codemirror_mode": {
    "name": "ipython",
    "version": 2
   },
   "file_extension": ".py",
   "mimetype": "text/x-python",
   "name": "python",
   "nbconvert_exporter": "python",
   "pygments_lexer": "ipython2",
   "version": "2.7.6"
  }
 },
 "nbformat": 4,
 "nbformat_minor": 5
}
