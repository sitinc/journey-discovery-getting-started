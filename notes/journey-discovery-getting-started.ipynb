{
 "cells": [
  {
   "cell_type": "code",
   "execution_count": 2,
   "id": "initial_id",
   "metadata": {
    "collapsed": true,
    "ExecuteTime": {
     "end_time": "2023-12-20T03:36:42.578675700Z",
     "start_time": "2023-12-20T03:36:15.665032200Z"
    }
   },
   "outputs": [
    {
     "name": "stdout",
     "output_type": "stream",
     "text": [
      "2023-12-19 22:36:15 - openAiLogger - DEBUG - 646bb20b-26f2-423b-b7ad-4acac6021e35 | CreateCompletions | Input: {'user_prompt': 'The transcript should be of an executive assistant receiving calls for \\ntheir executive and needing to schedule a follow-up at a later date.  Randomly decide on a date and time and how many \\nturns it takes to book the appointment.  Randomly decide on people names, but make sure to use diverse names.  Don\\'t \\nuse the words \"my executive\" or \"your executive\" or similar expressions.  Randomly decide on the reason the executive \\nis unavailable.  Don\\'t use an executive service as a business.', 'sys_prompt': 'You are helping me generate example transcripts.  Do not reply back with anything other \\nthan the transcript content itself.  No headers or footers.  Separate each turn with a blank line.  Each line should \\nstart with either \"USER: \" or \"AGENT: \".', 'model': 'gpt-4-1106-preview'}\n",
      "2023-12-19 22:36:42 - openAiLogger - DEBUG - 646bb20b-26f2-423b-b7ad-4acac6021e35 | CreateCompletions | Response: ChatCompletion(id='chatcmpl-8XhfU1oU9QadapgcD8Xa74ECIVNjb', choices=[Choice(finish_reason='stop', index=0, logprobs=None, message=ChatCompletionMessage(content=\"USER: Hi, I'm calling to speak with Jordan Clarke. This is Alex Johnson from InnoTech Solutions.\\n\\nAGENT: Good morning, Alex. This is Terry speaking, Jordan's assistant. Unfortunately, Jordan isn't available at the moment as they are currently overseas at a conference. May I take a message or help you schedule a callback?\\n\\nUSER: Oh, I wasn't aware of the conference. Yes, could we schedule a time to discuss the partnership proposal I sent over last week?\\n\\nAGENT: Certainly, Alex. Jordan will be back and catching up on meetings starting next Monday. Would you prefer a morning or afternoon slot?\\n\\nUSER: Morning would be best. How about next Tuesday?\\n\\nAGENT: Let me check the calendar. Yes, next Tuesday is open. How does 10 a.m. sound?\\n\\nUSER: 10 a.m. works great for me. Thank you, Terry.\\n\\nAGENT: Perfect, I've got you down for a meeting with Jordan next Tuesday at 10 a.m. We will send a calendar invite shortly. Is there anything else I can assist with?\\n\\nUSER: No, that should be all for now. Thanks for your help, Terry.\\n\\nAGENT: You're welcome, Alex. Have a great day! Jordan and I look forward to speaking with you next week.\", role='assistant', function_call=None, tool_calls=None))], created=1703043376, model='gpt-4-1106-preview', object='chat.completion', system_fingerprint='fp_3905aa4f79', usage=CompletionUsage(completion_tokens=262, prompt_tokens=175, total_tokens=437))\n",
      "2023-12-19 22:36:42 - openAiLogger - DEBUG - 646bb20b-26f2-423b-b7ad-4acac6021e35 | CreateCompletions | Output: {'id': 'chatcmpl-8XhfU1oU9QadapgcD8Xa74ECIVNjb', 'system_fingerprint': 'fp_3905aa4f79', 'finish_reason': 'stop', 'completion_tokens': 262, 'prompt_tokens': 175, 'total_tokens': 437, 'exec_time': 26.56585144996643, 'content': \"USER: Hi, I'm calling to speak with Jordan Clarke. This is Alex Johnson from InnoTech Solutions.\\n\\nAGENT: Good morning, Alex. This is Terry speaking, Jordan's assistant. Unfortunately, Jordan isn't available at the moment as they are currently overseas at a conference. May I take a message or help you schedule a callback?\\n\\nUSER: Oh, I wasn't aware of the conference. Yes, could we schedule a time to discuss the partnership proposal I sent over last week?\\n\\nAGENT: Certainly, Alex. Jordan will be back and catching up on meetings starting next Monday. Would you prefer a morning or afternoon slot?\\n\\nUSER: Morning would be best. How about next Tuesday?\\n\\nAGENT: Let me check the calendar. Yes, next Tuesday is open. How does 10 a.m. sound?\\n\\nUSER: 10 a.m. works great for me. Thank you, Terry.\\n\\nAGENT: Perfect, I've got you down for a meeting with Jordan next Tuesday at 10 a.m. We will send a calendar invite shortly. Is there anything else I can assist with?\\n\\nUSER: No, that should be all for now. Thanks for your help, Terry.\\n\\nAGENT: You're welcome, Alex. Have a great day! Jordan and I look forward to speaking with you next week.\"}\n"
     ]
    }
   ],
   "source": [
    "from interactovery.transcripts import Transcripts\n",
    "from interactovery.openaiwrap import OpenAiWrap\n",
    "\n",
    "from dotenv import load_dotenv\n",
    "import os\n",
    "from pathlib import Path\n",
    "\n",
    "import logging.config\n",
    "\n",
    "prj_root = os.getcwd() + '/../'\n",
    "conf_dir = prj_root + 'conf'\n",
    "\n",
    "logging.config.fileConfig(f\"{conf_dir}/logging.conf\")\n",
    "log = logging.getLogger('mainLogger')\n",
    "\n",
    "env_path = Path(f\"{conf_dir}/dev.env\")\n",
    "load_dotenv(dotenv_path=env_path)\n",
    "\n",
    "user_prompt_gen_transcript = \"\"\"The transcript should be of an executive assistant receiving calls for \n",
    "their executive and needing to schedule a follow-up at a later date.  Randomly decide on a date and time and how many \n",
    "turns it takes to book the appointment.  Randomly decide on people names, but make sure to use diverse names.  Don't \n",
    "use the words \"my executive\" or \"your executive\" or similar expressions.  Randomly decide on the reason the executive \n",
    "is unavailable.  Don't use an executive service as a business.\"\"\"\n",
    "\n",
    "openai_api_key = os.getenv('OPENAI_API_KEY')\n",
    "openai_org = os.getenv('OPENAI_ORG')\n",
    "openai_client = OpenAiWrap(\n",
    "    openai_org,\n",
    "    openai_api_key\n",
    ")\n",
    "\n",
    "tss = Transcripts(openai_client)\n",
    "\n",
    "tss.gen_agent_transcripts(\n",
    "    user_prompt=user_prompt_gen_transcript,\n",
    "    quantity=1,\n",
    "    output_dir=prj_root + 'output/t2'\n",
    ")\n"
   ]
  },
  {
   "cell_type": "code",
   "execution_count": null,
   "outputs": [],
   "source": [],
   "metadata": {
    "collapsed": false
   },
   "id": "a3543ba59665b94e"
  }
 ],
 "metadata": {
  "kernelspec": {
   "display_name": "Python 3",
   "language": "python",
   "name": "python3"
  },
  "language_info": {
   "codemirror_mode": {
    "name": "ipython",
    "version": 2
   },
   "file_extension": ".py",
   "mimetype": "text/x-python",
   "name": "python",
   "nbconvert_exporter": "python",
   "pygments_lexer": "ipython2",
   "version": "2.7.6"
  }
 },
 "nbformat": 4,
 "nbformat_minor": 5
}
